{
 "cells": [
  {
   "cell_type": "code",
   "execution_count": null,
   "id": "e9692641",
   "metadata": {},
   "outputs": [],
   "source": [
    "#Exercise solutions for numbers 1 - 7\n",
    "#numbers 8,9,10 at the bottom\n",
    "\n",
    "#1\n",
    "#SVMs are a replacement for decision boundaries that leaves as much room as possible between the classes \n",
    "#so that new data will not be placed on the wrong side of a decision boundary.\n",
    "\n",
    "#2\n",
    "#A support vector is any instance or data that is on the “street” that is created by the SVM. \n",
    "#These instances determine where the SVM will be positioned.\n",
    "\n",
    "#3\n",
    "#The significance of a SVM comes from making the widest possible “street”.\n",
    "#To do this, scaling is important or else some features may not be considered as much as they should.\n",
    "\n",
    "#4\n",
    "#An SVM can get a confidence score using the distance between the test instance and the decision boundary.\n",
    "#For the probability, you could set probabilities = true, but technically this is done using Logistic Regression.\n",
    "\n",
    "#5\n",
    "#The time it takes to use primal form is only m, while the time complexity of dual form is m^2 to m^3.\n",
    "#This means the dual form would take an unrealistically long time when using millions of instances.\n",
    "#Therefore, use primal form.\n",
    "\n",
    "#6\n",
    "#With and SVM classifier using RBF, the more underfit, the more regularization. \n",
    "#To fix this and have less regularization, you must increase gamma and/or C.\n",
    "\n",
    "#7\n",
    "#H = H’ with m columns of 0s on the right and m rows of 0s below.\n",
    "#f = f’ with m elements that all equal the value of C\n",
    "#b =b’ with m elements all equal to 0.\n",
    "#A = A’ with a m x m identity matrix.\n",
    "\n"
   ]
  }
 ],
 "metadata": {
  "kernelspec": {
   "display_name": "Python 3 (ipykernel)",
   "language": "python",
   "name": "python3"
  },
  "language_info": {
   "codemirror_mode": {
    "name": "ipython",
    "version": 3
   },
   "file_extension": ".py",
   "mimetype": "text/x-python",
   "name": "python",
   "nbconvert_exporter": "python",
   "pygments_lexer": "ipython3",
   "version": "3.9.5"
  }
 },
 "nbformat": 4,
 "nbformat_minor": 5
}
